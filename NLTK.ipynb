{
  "nbformat": 4,
  "nbformat_minor": 0,
  "metadata": {
    "colab": {
      "name": "NLTK.ipynb",
      "provenance": [],
      "authorship_tag": "ABX9TyNhUCwKHYcRFy2/mB3ETklB",
      "include_colab_link": true
    },
    "kernelspec": {
      "name": "python3",
      "display_name": "Python 3"
    }
  },
  "cells": [
    {
      "cell_type": "markdown",
      "metadata": {
        "id": "view-in-github",
        "colab_type": "text"
      },
      "source": [
        "<a href=\"https://colab.research.google.com/github/rasim321/Universe/blob/master/NLTK.ipynb\" target=\"_parent\"><img src=\"https://colab.research.google.com/assets/colab-badge.svg\" alt=\"Open In Colab\"/></a>"
      ]
    },
    {
      "cell_type": "code",
      "metadata": {
        "colab": {
          "base_uri": "https://localhost:8080/"
        },
        "id": "Es8x_aDz4QWg",
        "outputId": "6e8d85a1-3575-4765-fa4c-1684d4e43910"
      },
      "source": [
        "import nltk\r\n",
        "import re"
      ],
      "execution_count": 52,
      "outputs": [
        {
          "output_type": "stream",
          "text": [
            "[nltk_data] Downloading package averaged_perceptron_tagger to\n",
            "[nltk_data]     /root/nltk_data...\n",
            "[nltk_data]   Package averaged_perceptron_tagger is already up-to-\n",
            "[nltk_data]       date!\n"
          ],
          "name": "stdout"
        },
        {
          "output_type": "execute_result",
          "data": {
            "text/plain": [
              "True"
            ]
          },
          "metadata": {
            "tags": []
          },
          "execution_count": 52
        }
      ]
    },
    {
      "cell_type": "code",
      "metadata": {
        "id": "uMTB1Res4kW4"
      },
      "source": [
        "tokens = nltk.word_tokenize(\"Our consultants on the Advanced Analytics & Intelligent Automation team help clients maximize the value of their data and automate business processes. This high performing team works with clients to implement the full spectrum of data analytics and data science, from data querying and data wrangling, to data visualization and dashboarding, to predictive analytics, machine learning, and artificial intelligence as well as robotic process automation (RPA). Our services enable our clients to define their information strategy, enable mission critical insights and data-driven decision making, reduce cost and complexity, increase trust, and improve operational effectiveness.\")"
      ],
      "execution_count": 91,
      "outputs": []
    },
    {
      "cell_type": "code",
      "metadata": {
        "colab": {
          "base_uri": "https://localhost:8080/"
        },
        "id": "WIV270vO4weC",
        "outputId": "e880e87a-394f-413d-814a-a9302e90b97c"
      },
      "source": [
        "print(\"Tokens:\", tokens)\r\n",
        "print(\"PoS:\", nltk.pos_tag(tokens))\r\n",
        "\r\n",
        "pos_tag = nltk.pos_tag(tokens)\r\n",
        "\r\n",
        "verbs = list(filter(lambda x:x[1]=='VB',pos_tag))\r\n",
        "print(verbs[0][0])\r\n",
        "\r\n"
      ],
      "execution_count": 92,
      "outputs": [
        {
          "output_type": "stream",
          "text": [
            "Tokens: ['Our', 'consultants', 'on', 'the', 'Advanced', 'Analytics', '&', 'Intelligent', 'Automation', 'team', 'help', 'clients', 'maximize', 'the', 'value', 'of', 'their', 'data', 'and', 'automate', 'business', 'processes', '.', 'This', 'high', 'performing', 'team', 'works', 'with', 'clients', 'to', 'implement', 'the', 'full', 'spectrum', 'of', 'data', 'analytics', 'and', 'data', 'science', ',', 'from', 'data', 'querying', 'and', 'data', 'wrangling', ',', 'to', 'data', 'visualization', 'and', 'dashboarding', ',', 'to', 'predictive', 'analytics', ',', 'machine', 'learning', ',', 'and', 'artificial', 'intelligence', 'as', 'well', 'as', 'robotic', 'process', 'automation', '(', 'RPA', ')', '.', 'Our', 'services', 'enable', 'our', 'clients', 'to', 'define', 'their', 'information', 'strategy', ',', 'enable', 'mission', 'critical', 'insights', 'and', 'data-driven', 'decision', 'making', ',', 'reduce', 'cost', 'and', 'complexity', ',', 'increase', 'trust', ',', 'and', 'improve', 'operational', 'effectiveness', '.']\n",
            "PoS: [('Our', 'PRP$'), ('consultants', 'NNS'), ('on', 'IN'), ('the', 'DT'), ('Advanced', 'NNP'), ('Analytics', 'NNP'), ('&', 'CC'), ('Intelligent', 'NNP'), ('Automation', 'NNP'), ('team', 'NN'), ('help', 'NN'), ('clients', 'NNS'), ('maximize', 'VB'), ('the', 'DT'), ('value', 'NN'), ('of', 'IN'), ('their', 'PRP$'), ('data', 'NNS'), ('and', 'CC'), ('automate', 'NN'), ('business', 'NN'), ('processes', 'VBZ'), ('.', '.'), ('This', 'DT'), ('high', 'JJ'), ('performing', 'NN'), ('team', 'NN'), ('works', 'VBZ'), ('with', 'IN'), ('clients', 'NNS'), ('to', 'TO'), ('implement', 'VB'), ('the', 'DT'), ('full', 'JJ'), ('spectrum', 'NN'), ('of', 'IN'), ('data', 'NNS'), ('analytics', 'NNS'), ('and', 'CC'), ('data', 'NNS'), ('science', 'NN'), (',', ','), ('from', 'IN'), ('data', 'NNS'), ('querying', 'VBG'), ('and', 'CC'), ('data', 'NNS'), ('wrangling', 'NN'), (',', ','), ('to', 'TO'), ('data', 'VB'), ('visualization', 'NN'), ('and', 'CC'), ('dashboarding', 'NN'), (',', ','), ('to', 'TO'), ('predictive', 'VB'), ('analytics', 'NNS'), (',', ','), ('machine', 'NN'), ('learning', 'NN'), (',', ','), ('and', 'CC'), ('artificial', 'JJ'), ('intelligence', 'NN'), ('as', 'RB'), ('well', 'RB'), ('as', 'IN'), ('robotic', 'JJ'), ('process', 'NN'), ('automation', 'NN'), ('(', '('), ('RPA', 'NNP'), (')', ')'), ('.', '.'), ('Our', 'PRP$'), ('services', 'NNS'), ('enable', 'VB'), ('our', 'PRP$'), ('clients', 'NNS'), ('to', 'TO'), ('define', 'VB'), ('their', 'PRP$'), ('information', 'NN'), ('strategy', 'NN'), (',', ','), ('enable', 'JJ'), ('mission', 'NN'), ('critical', 'JJ'), ('insights', 'NNS'), ('and', 'CC'), ('data-driven', 'JJ'), ('decision', 'NN'), ('making', 'NN'), (',', ','), ('reduce', 'VB'), ('cost', 'NN'), ('and', 'CC'), ('complexity', 'NN'), (',', ','), ('increase', 'NN'), ('trust', 'NN'), (',', ','), ('and', 'CC'), ('improve', 'VB'), ('operational', 'JJ'), ('effectiveness', 'NN'), ('.', '.')]\n",
            "maximize\n"
          ],
          "name": "stdout"
        }
      ]
    },
    {
      "cell_type": "code",
      "metadata": {
        "id": "KN1Y5m4O7i54"
      },
      "source": [
        "def action_phrase(pos_tag):\r\n",
        "  \"\"\"\r\n",
        "  Extract action phrases from a block of tagged text\r\n",
        "\r\n",
        "  Input: Parts of Speech tagged (using nltk) block of text\r\n",
        "  Output: Action phrases from the block of text\r\n",
        "  \"\"\"\r\n",
        "\r\n",
        "  #Create the empty output list\r\n",
        "  phrases = []\r\n",
        "\r\n",
        "  #And an empty string for phraes\r\n",
        "  phrase =''\r\n",
        "\r\n",
        "  #Set flag to False\r\n",
        "  flag = False\r\n",
        "\r\n",
        "  #Initiate loop\r\n",
        "  for i in pos_tag:\r\n",
        "    #For any word after a verb (when flag turns True) add these words to 'phrase'\r\n",
        "    if flag == True:\r\n",
        "      phrase = \" \".join([phrase, i[0]])\r\n",
        "\r\n",
        "    #If a word is a verb, check flag\r\n",
        "    #If flag is already true, just continue\r\n",
        "    #If new verb, add to phrase and turn flag from False to True\r\n",
        "    if (i[1] == 'VB' )|( i[1] == 'VBZ'):\r\n",
        "      if flag == True:\r\n",
        "        continue\r\n",
        "      else:\r\n",
        "        phrase = \" \".join([phrase, i[0]])\r\n",
        "        flag = True\r\n",
        "\r\n",
        "    #When period is detected, turn flag to False and start new iteration\r\n",
        "    #Append the phrase to phrases list\r\n",
        "    elif i[1] == '.':\r\n",
        "      flag = False\r\n",
        "      phrases.append(phrase)\r\n",
        "      phrase =''\r\n",
        "      continue\r\n",
        "\r\n",
        "    else:\r\n",
        "      continue\r\n",
        "\r\n",
        "      a, b in enumerate(iterable)\r\n",
        "\r\n",
        "  for a, b in enumerate(text_formatter(phrases)):\r\n",
        "    print(a, ': ', b)\r\n",
        "    "
      ],
      "execution_count": 89,
      "outputs": []
    },
    {
      "cell_type": "code",
      "metadata": {
        "colab": {
          "base_uri": "https://localhost:8080/"
        },
        "id": "edHi3wO8DoWS",
        "outputId": "c62a8ad8-d70e-4e77-85ae-830ac407a8cf"
      },
      "source": [
        "def text_formatter(phrases):\r\n",
        "  \"\"\"Formats the raw phrases into more readable format\r\n",
        "     \r\n",
        "     1) Remove all the spaces before commas\r\n",
        "     2) Strip the whitespaces in the beginning of phrases\r\n",
        "     3) Removes the whitespaces before \".\"\r\n",
        "     4) Returns the phrases in its original list\r\n",
        "\r\n",
        "     \"\"\"\r\n",
        "  for i in range(len(phrases)):\r\n",
        "    phrases[i] = phrases[i].replace(\" ,\", ',').strip().replace(\" .\", \".\")\r\n",
        "\r\n",
        "  return phrases\r\n",
        "\r\n",
        "text_formatter(phrases)\r\n",
        "\r\n"
      ],
      "execution_count": 68,
      "outputs": [
        {
          "output_type": "execute_result",
          "data": {
            "text/plain": [
              "['works with the AIET Director of Research and Policy and an AIET scholar in Foreign Policy to conceptualize, develop, and execute major research projects on AI and emerging technology policy.',\n",
              " 'have a strong background in both policy and technology, and familiarity with data analysis, software engineering, or machine learning.']"
            ]
          },
          "metadata": {
            "tags": []
          },
          "execution_count": 68
        }
      ]
    },
    {
      "cell_type": "code",
      "metadata": {
        "colab": {
          "base_uri": "https://localhost:8080/"
        },
        "id": "RenoeCcWIGzG",
        "outputId": "e967f765-38b9-4d7a-f42a-e5f663be4ec7"
      },
      "source": [
        "action_phrase(pos_tag)"
      ],
      "execution_count": 93,
      "outputs": [
        {
          "output_type": "stream",
          "text": [
            "0 :  maximize the value of their data and automate business processes.\n",
            "1 :  works with clients to implement the full spectrum of data analytics and data science, from data querying and data wrangling, to data visualization and dashboarding, to predictive analytics, machine learning, and artificial intelligence as well as robotic process automation ( RPA ).\n",
            "2 :  enable our clients to define their information strategy, enable mission critical insights and data-driven decision making, reduce cost and complexity, increase trust, and improve operational effectiveness.\n"
          ],
          "name": "stdout"
        }
      ]
    }
  ]
}
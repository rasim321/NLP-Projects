{
  "nbformat": 4,
  "nbformat_minor": 0,
  "metadata": {
    "colab": {
      "name": "NLTK.ipynb",
      "provenance": [],
      "authorship_tag": "ABX9TyP4V2SybHmbYNvpzA9MVMIk",
      "include_colab_link": true
    },
    "kernelspec": {
      "name": "python3",
      "display_name": "Python 3"
    }
  },
  "cells": [
    {
      "cell_type": "markdown",
      "metadata": {
        "id": "view-in-github",
        "colab_type": "text"
      },
      "source": [
        "<a href=\"https://colab.research.google.com/github/rasim321/Universe/blob/master/NLTK.ipynb\" target=\"_parent\"><img src=\"https://colab.research.google.com/assets/colab-badge.svg\" alt=\"Open In Colab\"/></a>"
      ]
    },
    {
      "cell_type": "code",
      "metadata": {
        "colab": {
          "base_uri": "https://localhost:8080/"
        },
        "id": "Es8x_aDz4QWg",
        "outputId": "6e8d85a1-3575-4765-fa4c-1684d4e43910"
      },
      "source": [
        "import nltk\r\n",
        "import re"
      ],
      "execution_count": 52,
      "outputs": [
        {
          "output_type": "stream",
          "text": [
            "[nltk_data] Downloading package averaged_perceptron_tagger to\n",
            "[nltk_data]     /root/nltk_data...\n",
            "[nltk_data]   Package averaged_perceptron_tagger is already up-to-\n",
            "[nltk_data]       date!\n"
          ],
          "name": "stdout"
        },
        {
          "output_type": "execute_result",
          "data": {
            "text/plain": [
              "True"
            ]
          },
          "metadata": {
            "tags": []
          },
          "execution_count": 52
        }
      ]
    },
    {
      "cell_type": "code",
      "metadata": {
        "id": "KN1Y5m4O7i54"
      },
      "source": [
        "def action_phrase(pos_tag):\r\n",
        "  \"\"\"\r\n",
        "  Extract action phrases from a block of tagged text\r\n",
        "\r\n",
        "  Input: Parts of Speech tagged (using nltk) block of text\r\n",
        "  Output: Action phrases from the block of text\r\n",
        "  \"\"\"\r\n",
        "\r\n",
        "  #Create the empty output list\r\n",
        "  phrases = []\r\n",
        "\r\n",
        "  #And an empty string for phraes\r\n",
        "  phrase =''\r\n",
        "\r\n",
        "  #Set flag to False\r\n",
        "  flag = False\r\n",
        "\r\n",
        "  #Initiate loop\r\n",
        "  for i in pos_tag:\r\n",
        "    #For any word after a verb (when flag turns True) add these words to 'phrase'\r\n",
        "    if flag == True:\r\n",
        "      phrase = \" \".join([phrase, i[0]])\r\n",
        "\r\n",
        "    #If a word is a verb, check flag\r\n",
        "    #If flag is already true, just continue\r\n",
        "    #If new verb, add to phrase and turn flag from False to True\r\n",
        "    if (i[1] == 'VB' )|( i[1] == 'VBZ'):\r\n",
        "      if flag == True:\r\n",
        "        continue\r\n",
        "      else:\r\n",
        "        phrase = \" \".join([phrase, i[0]])\r\n",
        "        flag = True\r\n",
        "\r\n",
        "    #When period is detected, turn flag to False and start new iteration\r\n",
        "    #Append the phrase to phrases list\r\n",
        "    elif i[1] == '.':\r\n",
        "      flag = False\r\n",
        "      phrases.append(phrase)\r\n",
        "      phrase =''\r\n",
        "      continue\r\n",
        "\r\n",
        "    else:\r\n",
        "      continue\r\n",
        "\r\n",
        "      a, b in enumerate(iterable)\r\n",
        "\r\n",
        "  for a, b in enumerate(text_formatter(phrases)):\r\n",
        "    print(a, ': ', b)\r\n",
        "    "
      ],
      "execution_count": 148,
      "outputs": []
    },
    {
      "cell_type": "code",
      "metadata": {
        "id": "edHi3wO8DoWS"
      },
      "source": [
        "def text_formatter(phrases):\r\n",
        "  \"\"\"Formats the raw phrases into more readable format\r\n",
        "     \r\n",
        "     1) Remove all the spaces before commas\r\n",
        "     2) Strip the whitespaces in the beginning of phrases\r\n",
        "     3) Removes the whitespaces before \".\"\r\n",
        "     4) Returns the phrases in its original list\r\n",
        "\r\n",
        "     \"\"\"\r\n",
        "  for i in range(len(phrases)):\r\n",
        "    phrases[i] = phrases[i].replace(\" ,\", ',').strip().replace(\" .\", \".\")\r\n",
        "\r\n",
        "  return phrases\r\n"
      ],
      "execution_count": 151,
      "outputs": []
    },
    {
      "cell_type": "code",
      "metadata": {
        "id": "uMTB1Res4kW4"
      },
      "source": [
        "#Insert text here\r\n",
        "\r\n",
        "text = \"\"\"\r\n",
        "\r\n",
        "\"\"\""
      ],
      "execution_count": 145,
      "outputs": []
    },
    {
      "cell_type": "code",
      "metadata": {
        "id": "ayl8AQsySE_L"
      },
      "source": [
        "tokens = nltk.word_tokenize(text)\r\n",
        "pos_tag = nltk.pos_tag(tokens)"
      ],
      "execution_count": 146,
      "outputs": []
    },
    {
      "cell_type": "code",
      "metadata": {
        "id": "RenoeCcWIGzG"
      },
      "source": [
        "action_phrase(pos_tag)"
      ],
      "execution_count": 147,
      "outputs": []
    }
  ]
}